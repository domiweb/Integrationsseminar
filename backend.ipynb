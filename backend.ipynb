{
 "cells": [
  {
   "cell_type": "code",
   "execution_count": 1,
   "metadata": {},
   "outputs": [],
   "source": [
    "import pandas as pd\n",
    "import re"
   ]
  },
  {
   "attachments": {},
   "cell_type": "markdown",
   "metadata": {},
   "source": [
    "### Data Cleaning"
   ]
  },
  {
   "cell_type": "code",
   "execution_count": 10,
   "metadata": {},
   "outputs": [],
   "source": [
    "symptoms = pd.read_csv(r'/Users/aleks/Desktop/dataset.csv')"
   ]
  },
  {
   "cell_type": "code",
   "execution_count": 12,
   "metadata": {},
   "outputs": [],
   "source": [
    "del symptoms['Symptom_7']\n",
    "del symptoms['Symptom_8']\n",
    "del symptoms['Symptom_9']\n",
    "del symptoms['Symptom_10']\n",
    "del symptoms['Symptom_11']\n",
    "del symptoms['Symptom_12']\n",
    "del symptoms['Symptom_13']\n",
    "del symptoms['Symptom_14']\n",
    "del symptoms['Symptom_15']\n",
    "del symptoms['Symptom_16']\n",
    "del symptoms['Symptom_17']"
   ]
  },
  {
   "cell_type": "code",
   "execution_count": 14,
   "metadata": {},
   "outputs": [],
   "source": [
    "symptoms = symptoms.fillna(' ')"
   ]
  },
  {
   "cell_type": "code",
   "execution_count": 15,
   "metadata": {},
   "outputs": [
    {
     "data": {
      "text/html": [
       "<div>\n",
       "<style scoped>\n",
       "    .dataframe tbody tr th:only-of-type {\n",
       "        vertical-align: middle;\n",
       "    }\n",
       "\n",
       "    .dataframe tbody tr th {\n",
       "        vertical-align: top;\n",
       "    }\n",
       "\n",
       "    .dataframe thead th {\n",
       "        text-align: right;\n",
       "    }\n",
       "</style>\n",
       "<table border=\"1\" class=\"dataframe\">\n",
       "  <thead>\n",
       "    <tr style=\"text-align: right;\">\n",
       "      <th></th>\n",
       "      <th>Disease</th>\n",
       "      <th>Symptom_1</th>\n",
       "      <th>Symptom_2</th>\n",
       "      <th>Symptom_3</th>\n",
       "      <th>Symptom_4</th>\n",
       "      <th>Symptom_5</th>\n",
       "      <th>Symptom_6</th>\n",
       "    </tr>\n",
       "  </thead>\n",
       "  <tbody>\n",
       "    <tr>\n",
       "      <th>0</th>\n",
       "      <td>Fungal infection</td>\n",
       "      <td>itching</td>\n",
       "      <td>skin_rash</td>\n",
       "      <td>nodal_skin_eruptions</td>\n",
       "      <td>dischromic _patches</td>\n",
       "      <td></td>\n",
       "      <td></td>\n",
       "    </tr>\n",
       "    <tr>\n",
       "      <th>1</th>\n",
       "      <td>Fungal infection</td>\n",
       "      <td>skin_rash</td>\n",
       "      <td>nodal_skin_eruptions</td>\n",
       "      <td>dischromic _patches</td>\n",
       "      <td></td>\n",
       "      <td></td>\n",
       "      <td></td>\n",
       "    </tr>\n",
       "    <tr>\n",
       "      <th>2</th>\n",
       "      <td>Fungal infection</td>\n",
       "      <td>itching</td>\n",
       "      <td>nodal_skin_eruptions</td>\n",
       "      <td>dischromic _patches</td>\n",
       "      <td></td>\n",
       "      <td></td>\n",
       "      <td></td>\n",
       "    </tr>\n",
       "    <tr>\n",
       "      <th>3</th>\n",
       "      <td>Fungal infection</td>\n",
       "      <td>itching</td>\n",
       "      <td>skin_rash</td>\n",
       "      <td>dischromic _patches</td>\n",
       "      <td></td>\n",
       "      <td></td>\n",
       "      <td></td>\n",
       "    </tr>\n",
       "    <tr>\n",
       "      <th>4</th>\n",
       "      <td>Fungal infection</td>\n",
       "      <td>itching</td>\n",
       "      <td>skin_rash</td>\n",
       "      <td>nodal_skin_eruptions</td>\n",
       "      <td></td>\n",
       "      <td></td>\n",
       "      <td></td>\n",
       "    </tr>\n",
       "    <tr>\n",
       "      <th>...</th>\n",
       "      <td>...</td>\n",
       "      <td>...</td>\n",
       "      <td>...</td>\n",
       "      <td>...</td>\n",
       "      <td>...</td>\n",
       "      <td>...</td>\n",
       "      <td>...</td>\n",
       "    </tr>\n",
       "    <tr>\n",
       "      <th>4915</th>\n",
       "      <td>(vertigo) Paroymsal  Positional Vertigo</td>\n",
       "      <td>vomiting</td>\n",
       "      <td>headache</td>\n",
       "      <td>nausea</td>\n",
       "      <td>spinning_movements</td>\n",
       "      <td>loss_of_balance</td>\n",
       "      <td>unsteadiness</td>\n",
       "    </tr>\n",
       "    <tr>\n",
       "      <th>4916</th>\n",
       "      <td>Acne</td>\n",
       "      <td>skin_rash</td>\n",
       "      <td>pus_filled_pimples</td>\n",
       "      <td>blackheads</td>\n",
       "      <td>scurring</td>\n",
       "      <td></td>\n",
       "      <td></td>\n",
       "    </tr>\n",
       "    <tr>\n",
       "      <th>4917</th>\n",
       "      <td>Urinary tract infection</td>\n",
       "      <td>burning_micturition</td>\n",
       "      <td>bladder_discomfort</td>\n",
       "      <td>foul_smell_of urine</td>\n",
       "      <td>continuous_feel_of_urine</td>\n",
       "      <td></td>\n",
       "      <td></td>\n",
       "    </tr>\n",
       "    <tr>\n",
       "      <th>4918</th>\n",
       "      <td>Psoriasis</td>\n",
       "      <td>skin_rash</td>\n",
       "      <td>joint_pain</td>\n",
       "      <td>skin_peeling</td>\n",
       "      <td>silver_like_dusting</td>\n",
       "      <td>small_dents_in_nails</td>\n",
       "      <td>inflammatory_nails</td>\n",
       "    </tr>\n",
       "    <tr>\n",
       "      <th>4919</th>\n",
       "      <td>Impetigo</td>\n",
       "      <td>skin_rash</td>\n",
       "      <td>high_fever</td>\n",
       "      <td>blister</td>\n",
       "      <td>red_sore_around_nose</td>\n",
       "      <td>yellow_crust_ooze</td>\n",
       "      <td></td>\n",
       "    </tr>\n",
       "  </tbody>\n",
       "</table>\n",
       "<p>4920 rows × 7 columns</p>\n",
       "</div>"
      ],
      "text/plain": [
       "                                      Disease             Symptom_1  \\\n",
       "0                            Fungal infection               itching   \n",
       "1                            Fungal infection             skin_rash   \n",
       "2                            Fungal infection               itching   \n",
       "3                            Fungal infection               itching   \n",
       "4                            Fungal infection               itching   \n",
       "...                                       ...                   ...   \n",
       "4915  (vertigo) Paroymsal  Positional Vertigo              vomiting   \n",
       "4916                                     Acne             skin_rash   \n",
       "4917                  Urinary tract infection   burning_micturition   \n",
       "4918                                Psoriasis             skin_rash   \n",
       "4919                                 Impetigo             skin_rash   \n",
       "\n",
       "                  Symptom_2              Symptom_3                  Symptom_4  \\\n",
       "0                 skin_rash   nodal_skin_eruptions        dischromic _patches   \n",
       "1      nodal_skin_eruptions    dischromic _patches                              \n",
       "2      nodal_skin_eruptions    dischromic _patches                              \n",
       "3                 skin_rash    dischromic _patches                              \n",
       "4                 skin_rash   nodal_skin_eruptions                              \n",
       "...                     ...                    ...                        ...   \n",
       "4915               headache                 nausea         spinning_movements   \n",
       "4916     pus_filled_pimples             blackheads                   scurring   \n",
       "4917     bladder_discomfort    foul_smell_of urine   continuous_feel_of_urine   \n",
       "4918             joint_pain           skin_peeling        silver_like_dusting   \n",
       "4919             high_fever                blister       red_sore_around_nose   \n",
       "\n",
       "                  Symptom_5            Symptom_6  \n",
       "0                                                 \n",
       "1                                                 \n",
       "2                                                 \n",
       "3                                                 \n",
       "4                                                 \n",
       "...                     ...                  ...  \n",
       "4915        loss_of_balance         unsteadiness  \n",
       "4916                                              \n",
       "4917                                              \n",
       "4918   small_dents_in_nails   inflammatory_nails  \n",
       "4919      yellow_crust_ooze                       \n",
       "\n",
       "[4920 rows x 7 columns]"
      ]
     },
     "execution_count": 15,
     "metadata": {},
     "output_type": "execute_result"
    }
   ],
   "source": [
    "symptoms"
   ]
  },
  {
   "cell_type": "code",
   "execution_count": 16,
   "metadata": {},
   "outputs": [],
   "source": [
    "# Diseases lowercased\n",
    "org_diseases = list(symptoms['Disease'])\n",
    "low_diseases = []\n",
    "for item in org_diseases:\n",
    "    low_diseases.append(item.lower())"
   ]
  },
  {
   "cell_type": "code",
   "execution_count": 17,
   "metadata": {},
   "outputs": [
    {
     "name": "stdout",
     "output_type": "stream",
     "text": [
      "4920 4920\n"
     ]
    }
   ],
   "source": [
    "print(len(org_diseases), len(low_diseases))"
   ]
  },
  {
   "cell_type": "code",
   "execution_count": 18,
   "metadata": {},
   "outputs": [],
   "source": [
    "symptoms['Disease_Low'] = low_diseases"
   ]
  },
  {
   "cell_type": "code",
   "execution_count": 19,
   "metadata": {},
   "outputs": [
    {
     "name": "stdout",
     "output_type": "stream",
     "text": [
      "4920\n"
     ]
    }
   ],
   "source": [
    "org_s1 = list(symptoms['Symptom_1'])\n",
    "prepro_s1 = []\n",
    "for s1 in org_s1:\n",
    "    prepro_s1.append(re.sub('\\_', ' ', s1))\n",
    "\n",
    "print(len(org_s1))"
   ]
  },
  {
   "cell_type": "code",
   "execution_count": 20,
   "metadata": {},
   "outputs": [],
   "source": [
    "symptoms['Symptom 1'] = prepro_s1"
   ]
  },
  {
   "cell_type": "code",
   "execution_count": 21,
   "metadata": {},
   "outputs": [
    {
     "name": "stdout",
     "output_type": "stream",
     "text": [
      "4920\n"
     ]
    }
   ],
   "source": [
    "org_s2 = list(symptoms['Symptom_2'])\n",
    "prepro_s2 = []\n",
    "for s2 in org_s2:\n",
    "    prepro_s2.append(re.sub('\\_', ' ', s2))\n",
    "print(len(org_s2))"
   ]
  },
  {
   "cell_type": "code",
   "execution_count": 22,
   "metadata": {},
   "outputs": [],
   "source": [
    "symptoms['Symptom 2'] = prepro_s2"
   ]
  },
  {
   "cell_type": "code",
   "execution_count": 23,
   "metadata": {},
   "outputs": [
    {
     "name": "stdout",
     "output_type": "stream",
     "text": [
      "4920\n"
     ]
    }
   ],
   "source": [
    "org_s3 = list(symptoms['Symptom_3'])\n",
    "prepro_s3 = []\n",
    "for s3 in org_s3:\n",
    "    prepro_s3.append(re.sub('\\_', ' ', s3))\n",
    "print(len(org_s3))"
   ]
  },
  {
   "cell_type": "code",
   "execution_count": 24,
   "metadata": {},
   "outputs": [],
   "source": [
    "symptoms['Symptom 3'] = prepro_s3"
   ]
  },
  {
   "cell_type": "code",
   "execution_count": 25,
   "metadata": {},
   "outputs": [
    {
     "name": "stdout",
     "output_type": "stream",
     "text": [
      "4920\n"
     ]
    }
   ],
   "source": [
    "org_s4 = list(symptoms['Symptom_4'])\n",
    "prepro_s4 = []\n",
    "for s4 in org_s4:\n",
    "    prepro_s4.append(re.sub('\\_', ' ', s4))\n",
    "print(len(org_s4))"
   ]
  },
  {
   "cell_type": "code",
   "execution_count": 26,
   "metadata": {},
   "outputs": [],
   "source": [
    "symptoms['Symptom 4'] = prepro_s4"
   ]
  },
  {
   "cell_type": "code",
   "execution_count": 27,
   "metadata": {},
   "outputs": [
    {
     "name": "stdout",
     "output_type": "stream",
     "text": [
      "4920\n"
     ]
    }
   ],
   "source": [
    "org_s5 = list(symptoms['Symptom_5'])\n",
    "prepro_s5 = []\n",
    "for s5 in org_s5:\n",
    "    prepro_s5.append(re.sub('\\_', ' ', s5))\n",
    "print(len(org_s5))"
   ]
  },
  {
   "cell_type": "code",
   "execution_count": 28,
   "metadata": {},
   "outputs": [],
   "source": [
    "symptoms['Symptom 5'] = prepro_s5"
   ]
  },
  {
   "cell_type": "code",
   "execution_count": 29,
   "metadata": {},
   "outputs": [
    {
     "name": "stdout",
     "output_type": "stream",
     "text": [
      "4920\n"
     ]
    }
   ],
   "source": [
    "org_s6 = list(symptoms['Symptom_6'])\n",
    "prepro_s6 = []\n",
    "for s6 in org_s6:\n",
    "    prepro_s6.append(re.sub('\\_', ' ', s6))\n",
    "print(len(org_s6))"
   ]
  },
  {
   "cell_type": "code",
   "execution_count": 30,
   "metadata": {},
   "outputs": [],
   "source": [
    "symptoms['Symptom 6'] = prepro_s6"
   ]
  },
  {
   "cell_type": "code",
   "execution_count": 31,
   "metadata": {},
   "outputs": [],
   "source": [
    "del symptoms['Disease']\n",
    "del symptoms['Symptom_1']\n",
    "del symptoms['Symptom_2']\n",
    "del symptoms['Symptom_3']\n",
    "del symptoms['Symptom_4']\n",
    "del symptoms['Symptom_5']\n",
    "del symptoms['Symptom_6']"
   ]
  },
  {
   "cell_type": "code",
   "execution_count": 32,
   "metadata": {},
   "outputs": [
    {
     "data": {
      "text/html": [
       "<div>\n",
       "<style scoped>\n",
       "    .dataframe tbody tr th:only-of-type {\n",
       "        vertical-align: middle;\n",
       "    }\n",
       "\n",
       "    .dataframe tbody tr th {\n",
       "        vertical-align: top;\n",
       "    }\n",
       "\n",
       "    .dataframe thead th {\n",
       "        text-align: right;\n",
       "    }\n",
       "</style>\n",
       "<table border=\"1\" class=\"dataframe\">\n",
       "  <thead>\n",
       "    <tr style=\"text-align: right;\">\n",
       "      <th></th>\n",
       "      <th>Disease</th>\n",
       "      <th>Symptom 1</th>\n",
       "      <th>Symptom 2</th>\n",
       "      <th>Symptom 3</th>\n",
       "      <th>Symptom 4</th>\n",
       "      <th>Symptom 5</th>\n",
       "      <th>Symptom 6</th>\n",
       "    </tr>\n",
       "  </thead>\n",
       "  <tbody>\n",
       "    <tr>\n",
       "      <th>0</th>\n",
       "      <td>fungal infection</td>\n",
       "      <td>itching</td>\n",
       "      <td>skin rash</td>\n",
       "      <td>nodal skin eruptions</td>\n",
       "      <td>dischromic  patches</td>\n",
       "      <td></td>\n",
       "      <td></td>\n",
       "    </tr>\n",
       "    <tr>\n",
       "      <th>1</th>\n",
       "      <td>fungal infection</td>\n",
       "      <td>skin rash</td>\n",
       "      <td>nodal skin eruptions</td>\n",
       "      <td>dischromic  patches</td>\n",
       "      <td></td>\n",
       "      <td></td>\n",
       "      <td></td>\n",
       "    </tr>\n",
       "    <tr>\n",
       "      <th>2</th>\n",
       "      <td>fungal infection</td>\n",
       "      <td>itching</td>\n",
       "      <td>nodal skin eruptions</td>\n",
       "      <td>dischromic  patches</td>\n",
       "      <td></td>\n",
       "      <td></td>\n",
       "      <td></td>\n",
       "    </tr>\n",
       "    <tr>\n",
       "      <th>3</th>\n",
       "      <td>fungal infection</td>\n",
       "      <td>itching</td>\n",
       "      <td>skin rash</td>\n",
       "      <td>dischromic  patches</td>\n",
       "      <td></td>\n",
       "      <td></td>\n",
       "      <td></td>\n",
       "    </tr>\n",
       "    <tr>\n",
       "      <th>4</th>\n",
       "      <td>fungal infection</td>\n",
       "      <td>itching</td>\n",
       "      <td>skin rash</td>\n",
       "      <td>nodal skin eruptions</td>\n",
       "      <td></td>\n",
       "      <td></td>\n",
       "      <td></td>\n",
       "    </tr>\n",
       "    <tr>\n",
       "      <th>...</th>\n",
       "      <td>...</td>\n",
       "      <td>...</td>\n",
       "      <td>...</td>\n",
       "      <td>...</td>\n",
       "      <td>...</td>\n",
       "      <td>...</td>\n",
       "      <td>...</td>\n",
       "    </tr>\n",
       "    <tr>\n",
       "      <th>4915</th>\n",
       "      <td>(vertigo) paroymsal  positional vertigo</td>\n",
       "      <td>vomiting</td>\n",
       "      <td>headache</td>\n",
       "      <td>nausea</td>\n",
       "      <td>spinning movements</td>\n",
       "      <td>loss of balance</td>\n",
       "      <td>unsteadiness</td>\n",
       "    </tr>\n",
       "    <tr>\n",
       "      <th>4916</th>\n",
       "      <td>acne</td>\n",
       "      <td>skin rash</td>\n",
       "      <td>pus filled pimples</td>\n",
       "      <td>blackheads</td>\n",
       "      <td>scurring</td>\n",
       "      <td></td>\n",
       "      <td></td>\n",
       "    </tr>\n",
       "    <tr>\n",
       "      <th>4917</th>\n",
       "      <td>urinary tract infection</td>\n",
       "      <td>burning micturition</td>\n",
       "      <td>bladder discomfort</td>\n",
       "      <td>foul smell of urine</td>\n",
       "      <td>continuous feel of urine</td>\n",
       "      <td></td>\n",
       "      <td></td>\n",
       "    </tr>\n",
       "    <tr>\n",
       "      <th>4918</th>\n",
       "      <td>psoriasis</td>\n",
       "      <td>skin rash</td>\n",
       "      <td>joint pain</td>\n",
       "      <td>skin peeling</td>\n",
       "      <td>silver like dusting</td>\n",
       "      <td>small dents in nails</td>\n",
       "      <td>inflammatory nails</td>\n",
       "    </tr>\n",
       "    <tr>\n",
       "      <th>4919</th>\n",
       "      <td>impetigo</td>\n",
       "      <td>skin rash</td>\n",
       "      <td>high fever</td>\n",
       "      <td>blister</td>\n",
       "      <td>red sore around nose</td>\n",
       "      <td>yellow crust ooze</td>\n",
       "      <td></td>\n",
       "    </tr>\n",
       "  </tbody>\n",
       "</table>\n",
       "<p>4920 rows × 7 columns</p>\n",
       "</div>"
      ],
      "text/plain": [
       "                                      Disease             Symptom 1  \\\n",
       "0                            fungal infection               itching   \n",
       "1                            fungal infection             skin rash   \n",
       "2                            fungal infection               itching   \n",
       "3                            fungal infection               itching   \n",
       "4                            fungal infection               itching   \n",
       "...                                       ...                   ...   \n",
       "4915  (vertigo) paroymsal  positional vertigo              vomiting   \n",
       "4916                                     acne             skin rash   \n",
       "4917                  urinary tract infection   burning micturition   \n",
       "4918                                psoriasis             skin rash   \n",
       "4919                                 impetigo             skin rash   \n",
       "\n",
       "                  Symptom 2              Symptom 3                  Symptom 4  \\\n",
       "0                 skin rash   nodal skin eruptions        dischromic  patches   \n",
       "1      nodal skin eruptions    dischromic  patches                              \n",
       "2      nodal skin eruptions    dischromic  patches                              \n",
       "3                 skin rash    dischromic  patches                              \n",
       "4                 skin rash   nodal skin eruptions                              \n",
       "...                     ...                    ...                        ...   \n",
       "4915               headache                 nausea         spinning movements   \n",
       "4916     pus filled pimples             blackheads                   scurring   \n",
       "4917     bladder discomfort    foul smell of urine   continuous feel of urine   \n",
       "4918             joint pain           skin peeling        silver like dusting   \n",
       "4919             high fever                blister       red sore around nose   \n",
       "\n",
       "                  Symptom 5            Symptom 6  \n",
       "0                                                 \n",
       "1                                                 \n",
       "2                                                 \n",
       "3                                                 \n",
       "4                                                 \n",
       "...                     ...                  ...  \n",
       "4915        loss of balance         unsteadiness  \n",
       "4916                                              \n",
       "4917                                              \n",
       "4918   small dents in nails   inflammatory nails  \n",
       "4919      yellow crust ooze                       \n",
       "\n",
       "[4920 rows x 7 columns]"
      ]
     },
     "execution_count": 32,
     "metadata": {},
     "output_type": "execute_result"
    }
   ],
   "source": [
    "symptoms.rename(columns={'Disease_Low': 'Disease'})"
   ]
  },
  {
   "attachments": {},
   "cell_type": "markdown",
   "metadata": {},
   "source": [
    "### Preprocessing"
   ]
  },
  {
   "cell_type": "code",
   "execution_count": null,
   "metadata": {},
   "outputs": [],
   "source": []
  }
 ],
 "metadata": {
  "kernelspec": {
   "display_name": "base",
   "language": "python",
   "name": "python3"
  },
  "language_info": {
   "codemirror_mode": {
    "name": "ipython",
    "version": 3
   },
   "file_extension": ".py",
   "mimetype": "text/x-python",
   "name": "python",
   "nbconvert_exporter": "python",
   "pygments_lexer": "ipython3",
   "version": "3.9.12"
  },
  "orig_nbformat": 4
 },
 "nbformat": 4,
 "nbformat_minor": 2
}
